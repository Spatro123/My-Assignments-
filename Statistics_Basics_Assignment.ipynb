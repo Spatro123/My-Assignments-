{
  "cells": [
    {
      "cell_type": "markdown",
      "metadata": {
        "id": "view-in-github",
        "colab_type": "text"
      },
      "source": [
        "<a href=\"https://colab.research.google.com/github/Spatro123/My-Assignments-/blob/main/Statistics_Basics_Assignment.ipynb\" target=\"_parent\"><img src=\"https://colab.research.google.com/assets/colab-badge.svg\" alt=\"Open In Colab\"/></a>"
      ]
    },
    {
      "cell_type": "markdown",
      "metadata": {
        "id": "a1fZtXno3zxQ"
      },
      "source": [
        "### 1. Explain the different types of data (qualitative and quantitative) and provide examples of each. Discuss nominal, ordinal, interval, and ratio scales.\n",
        "\n",
        "**Qualitative (Categorical) data:** Describes categories or labels; not numeric in nature.\n",
        "- *Examples:* Colors of cars (Red, Blue), types of fruit (Apple, Banana), blood groups (A, B, AB, O).\n",
        "\n",
        "**Quantitative (Numerical) data:** Numeric measurements that represent counts or measurements.\n",
        "- *Examples:* Age, height, exam scores, salary.\n",
        "\n",
        "**Measurement scales:**\n",
        "- **Nominal:** Categories with no inherent order (e.g., eye color).\n",
        "- **Ordinal:** Categories with an order but unknown/unequal intervals (e.g., ratings: Poor, Fair, Good, Excellent).\n",
        "- **Interval:** Numeric scale with equal intervals but no true zero (e.g., temperature in °C). Differences are meaningful but ratios are not.\n",
        "- **Ratio:** Numeric scale with equal intervals and a true zero point (e.g., weight, height, income). Ratios are meaningful.\n",
        "\n",
        "—\n"
      ],
      "id": "a1fZtXno3zxQ"
    },
    {
      "cell_type": "markdown",
      "metadata": {
        "id": "mZzYK13X3zxS"
      },
      "source": [
        "### 2. What are the measures of central tendency, and when should you use each? Discuss the mean, median, and mode with examples and situations where each is appropriate.\n",
        "\n",
        "- **Mean (Arithmetic mean):** Sum of values divided by count. Best for symmetric distributions without outliers. *Example:* Average test score when no extreme values.\n",
        "- **Median:** Middle value after sorting. Robust to outliers and skewness. *Example:* Median household income when incomes are skewed.\n",
        "- **Mode:** Most frequent value. Useful for categorical data or multimodal distributions. *Example:* Most common shoe size in a sample.\n",
        "\n",
        "—\n"
      ],
      "id": "mZzYK13X3zxS"
    },
    {
      "cell_type": "markdown",
      "metadata": {
        "id": "nAnYeJVW3zxT"
      },
      "source": [
        "### 3. Explain the concept of dispersion. How do variance and standard deviation measure the spread of data?\n",
        "\n",
        "**Dispersion** describes how spread out the data values are around the central value.\n",
        "- **Variance (σ² or s²):** Average of squared deviations from the mean. Gives weight to larger deviations due to squaring.\n",
        "- **Standard deviation (σ or s):** Square root of variance. Expressed in the same units as the data and easier to interpret.\n",
        "\n",
        "If variance/SD is small, data points cluster near the mean; if large, data are widely spread.\n",
        "\n",
        "—\n"
      ],
      "id": "nAnYeJVW3zxT"
    },
    {
      "cell_type": "markdown",
      "metadata": {
        "id": "ezJ1v9rv3zxU"
      },
      "source": [
        "### 4. What is a box plot, and what can it tell you about the distribution of data?\n",
        "\n",
        "A **box plot** (or whisker plot) summarizes data using five-number summary: minimum, first quartile (Q1), median (Q2), third quartile (Q3), and maximum. The box spans Q1 to Q3; the line inside is the median. Whiskers typically extend to the last data point within 1.5×IQR from the quartiles; points beyond are considered outliers.\n",
        "\n",
        "A box plot reveals central tendency, spread, skewness, and outliers, and is useful for comparing distributions between groups.\n",
        "\n",
        "—\n"
      ],
      "id": "ezJ1v9rv3zxU"
    },
    {
      "cell_type": "markdown",
      "metadata": {
        "id": "NwBkrbdM3zxU"
      },
      "source": [
        "### 5. Discuss the role of random sampling in making inferences about populations.\n",
        "\n",
        "**Random sampling** ensures each member of a population has an equal chance to be selected. It reduces selection bias and allows us to use probability theory to make valid inferences about the population (e.g., confidence intervals, hypothesis tests). Good random sampling increases representativeness so sample statistics approximate population parameters.\n",
        "\n",
        "—\n"
      ],
      "id": "NwBkrbdM3zxU"
    },
    {
      "cell_type": "markdown",
      "metadata": {
        "id": "wVB0WBE-3zxV"
      },
      "source": [
        "### 6. Explain the concept of skewness and its types. How does skewness affect the interpretation of data?\n",
        "\n",
        "**Skewness** measures the asymmetry of a distribution around its mean.\n",
        "- **Positive (right) skew:** Tail extends to the right. Mean > median. Example: income distribution.\n",
        "- **Negative (left) skew:** Tail extends to the left. Mean < median. Example: age at retirement if most retire late but a few retire very early.\n",
        "\n",
        "Skewness affects interpretation: in skewed data, mean is pulled toward the tail and may not represent the 'typical' value; median is preferred as a measure of central tendency.\n",
        "\n",
        "—\n"
      ],
      "id": "wVB0WBE-3zxV"
    },
    {
      "cell_type": "markdown",
      "metadata": {
        "id": "H1j5eJTU3zxW"
      },
      "source": [
        "### 7. What is the interquartile range (IQR), and how is it used to detect outliers?\n",
        "\n",
        "**IQR = Q3 − Q1** (distance between 75th and 25th percentiles). It measures the spread of the middle 50% of data.\n",
        "A common rule to detect outliers: values < Q1 − 1.5×IQR or > Q3 + 1.5×IQR are considered outliers. This method is robust and less sensitive to extreme values than methods based on mean and SD.\n",
        "\n",
        "—\n"
      ],
      "id": "H1j5eJTU3zxW"
    },
    {
      "cell_type": "markdown",
      "metadata": {
        "id": "HlPafSvD3zxY"
      },
      "source": [
        "### 8. Discuss the conditions under which the binomial distribution is used.\n",
        "\n",
        "The **binomial distribution** models the number of successes in _n_ independent trials when each trial has exactly two outcomes (success/failure) and the probability of success _p_ is constant across trials.\n",
        "Conditions (Bernoulli trials):\n",
        "1. Fixed number of trials, _n_.\n",
        "2. Each trial is independent.\n",
        "3. Only two outcomes per trial (success or failure).\n",
        "4. Probability of success _p_ remains the same each trial.\n",
        "\n",
        "The probability of exactly _k_ successes is: $P(X=k)=\\binom{n}{k} p^{k} (1-p)^{n-k}$.\n",
        "\n",
        "—\n"
      ],
      "id": "HlPafSvD3zxY"
    },
    {
      "cell_type": "markdown",
      "metadata": {
        "id": "lFQyl5Ff3zxZ"
      },
      "source": [
        "### 9. Explain the properties of the normal distribution and the empirical rule (68–95–99.7 rule).\n",
        "\n",
        "**Normal distribution** is symmetric, bell-shaped, and fully described by mean μ and standard deviation σ. Key properties:\n",
        "- Symmetric around mean μ.\n",
        "- Mean = median = mode.\n",
        "- Defined by parameters μ and σ; probability density function is the familiar Gaussian curve.\n",
        "\n",
        "**Empirical rule:** For a normal distribution:\n",
        "- ~68% of values lie within μ ± 1σ\n",
        "- ~95% within μ ± 2σ\n",
        "- ~99.7% within μ ± 3σ\n",
        "\n",
        "This helps estimate probabilities and detect unusual observations.\n",
        "\n",
        "—\n"
      ],
      "id": "lFQyl5Ff3zxZ"
    },
    {
      "cell_type": "markdown",
      "metadata": {
        "id": "MbQZjVUB3zxa"
      },
      "source": [
        "### 10. Provide a real-life example of a Poisson process and calculate the probability for a specific event.\n",
        "\n",
        "A **Poisson process** models the count of events occurring randomly over a fixed interval when events happen independently and the average rate (λ) is constant.\n",
        "Real-life example: Number of incoming calls at a call center per hour.\n",
        "If average calls per hour λ = 6, the probability of observing exactly k calls in an hour is:\n",
        "$$P(X=k)=\\frac{e^{-\\lambda} \\lambda^{k}}{k!}.$$\n",
        "For example, probability of exactly 4 calls when λ=6: $P(X=4)=e^{-6} 6^{4}/4!$ (we compute this in the practical section).\n",
        "\n",
        "—\n"
      ],
      "id": "MbQZjVUB3zxa"
    },
    {
      "cell_type": "markdown",
      "metadata": {
        "id": "JXOXkMXp3zxb"
      },
      "source": [
        "### 11. Explain what a random variable is and differentiate between discrete and continuous random variables.\n",
        "\n",
        "A **random variable** is a variable that takes on numerical values determined by the outcomes of a random phenomenon.\n",
        "- **Discrete random variable:** Takes countable values (e.g., number of heads in 10 coin tosses).\n",
        "- **Continuous random variable:** Takes values from a continuum (e.g., height, weight). Probabilities are given over intervals and use probability density functions.\n",
        "\n",
        "—\n"
      ],
      "id": "JXOXkMXp3zxb"
    },
    {
      "cell_type": "markdown",
      "metadata": {
        "id": "TYq_22Rw3zxb"
      },
      "source": [
        "### 12. Provide an example dataset, calculate both covariance and correlation, and interpret the results.\n",
        "\n",
        "See the practical section below for a worked example with Python code that creates a dataset, computes covariance and Pearson correlation, and interprets them.\n",
        "\n",
        "---\n"
      ],
      "id": "TYq_22Rw3zxb"
    },
    {
      "cell_type": "markdown",
      "metadata": {
        "id": "MKES0o593zxc"
      },
      "source": [
        "## Practical — Code Examples\n",
        "Run the following cells to see computations and visualizations.\n"
      ],
      "id": "MKES0o593zxc"
    },
    {
      "cell_type": "code",
      "metadata": {
        "id": "rT8nIHch3zxc"
      },
      "source": [
        "import numpy as np\n",
        "import pandas as pd\n",
        "import matplotlib.pyplot as plt\n",
        "import seaborn as sns\n",
        "from math import comb, factorial, exp\n",
        "\n",
        "# Set seaborn style\n",
        "sns.set()\n"
      ],
      "id": "rT8nIHch3zxc",
      "execution_count": null,
      "outputs": []
    },
    {
      "cell_type": "code",
      "metadata": {
        "id": "uIuGLRQj3zxe"
      },
      "source": [
        "# Example dataset\n",
        "data = pd.DataFrame({\n",
        "    'Age': [23, 25, 31, 22, 45, 36, 52, 27, 30, 29],\n",
        "    'Income': [25000, 27000, 50000, 23000, 120000, 60000, 150000, 30000, 45000, 40000]\n",
        "})\n",
        "data.head()"
      ],
      "id": "uIuGLRQj3zxe",
      "execution_count": null,
      "outputs": []
    },
    {
      "cell_type": "markdown",
      "metadata": {
        "id": "YPcCzsbq3zxe"
      },
      "source": [
        "### Measures of central tendency (mean, median, mode) and dispersion (variance, standard deviation)\n"
      ],
      "id": "YPcCzsbq3zxe"
    },
    {
      "cell_type": "code",
      "metadata": {
        "id": "L4tfJdIg3zxf"
      },
      "source": [
        "mean_age = data['Age'].mean()\n",
        "median_age = data['Age'].median()\n",
        "mode_age = data['Age'].mode().tolist()\n",
        "var_age = data['Age'].var(ddof=0)  # population variance\n",
        "std_age = data['Age'].std(ddof=0)  # population std\n",
        "\n",
        "mean_income = data['Income'].mean()\n",
        "median_income = data['Income'].median()\n",
        "mode_income = data['Income'].mode().tolist()\n",
        "var_income = data['Income'].var(ddof=0)\n",
        "std_income = data['Income'].std(ddof=0)\n",
        "\n",
        "results = {\n",
        "    'mean_age': mean_age,\n",
        "    'median_age': median_age,\n",
        "    'mode_age': mode_age,\n",
        "    'var_age': var_age,\n",
        "    'std_age': std_age,\n",
        "    'mean_income': mean_income,\n",
        "    'median_income': median_income,\n",
        "    'mode_income': mode_income,\n",
        "    'var_income': var_income,\n",
        "    'std_income': std_income\n",
        "}\n",
        "results"
      ],
      "id": "L4tfJdIg3zxf",
      "execution_count": null,
      "outputs": []
    },
    {
      "cell_type": "markdown",
      "metadata": {
        "id": "gYyH6bnq3zxf"
      },
      "source": [
        "### Box plot and skewness\n"
      ],
      "id": "gYyH6bnq3zxf"
    },
    {
      "cell_type": "code",
      "metadata": {
        "id": "_8M9N--k3zxf"
      },
      "source": [
        "# Boxplot for Income\n",
        "plt.figure(figsize=(6,4))\n",
        "sns.boxplot(x=data['Income'])\n",
        "plt.title('Box plot of Income')\n",
        "plt.show()\n",
        "\n",
        "# Skewness\n",
        "skew_age = data['Age'].skew()\n",
        "skew_income = data['Income'].skew()\n",
        "skew_age, skew_income"
      ],
      "id": "_8M9N--k3zxf",
      "execution_count": null,
      "outputs": []
    },
    {
      "cell_type": "markdown",
      "metadata": {
        "id": "bGlxd1aq3zxg"
      },
      "source": [
        "### IQR and outlier detection\n"
      ],
      "id": "bGlxd1aq3zxg"
    },
    {
      "cell_type": "code",
      "metadata": {
        "id": "uP0wjkqJ3zxg"
      },
      "source": [
        "Q1 = data['Income'].quantile(0.25)\n",
        "Q3 = data['Income'].quantile(0.75)\n",
        "IQR = Q3 - Q1\n",
        "lower_bound = Q1 - 1.5 * IQR\n",
        "upper_bound = Q3 + 1.5 * IQR\n",
        "outliers = data[(data['Income'] < lower_bound) | (data['Income'] > upper_bound)]\n",
        "{'Q1':Q1, 'Q3':Q3, 'IQR':IQR, 'lower_bound':lower_bound, 'upper_bound':upper_bound, 'outliers': outliers.to_dict(orient='records')}"
      ],
      "id": "uP0wjkqJ3zxg",
      "execution_count": null,
      "outputs": []
    },
    {
      "cell_type": "markdown",
      "metadata": {
        "id": "ELvt0T_N3zxg"
      },
      "source": [
        "### Random sampling demonstration\n"
      ],
      "id": "ELvt0T_N3zxg"
    },
    {
      "cell_type": "code",
      "metadata": {
        "id": "7E6Qdl983zxg"
      },
      "source": [
        "population = np.arange(1, 501)  # population of 500 items\n",
        "sample = np.random.choice(population, size=50, replace=False)\n",
        "sample[:10]  # show first 10 sample values"
      ],
      "id": "7E6Qdl983zxg",
      "execution_count": null,
      "outputs": []
    },
    {
      "cell_type": "markdown",
      "metadata": {
        "id": "m_wRPKPs3zxh"
      },
      "source": [
        "### Binomial distribution example (probability calculation)\n",
        "\n",
        "Probability of exactly k successes in n independent trials with success probability p:\n",
        "$$P(X=k)=\\binom{n}{k} p^{k} (1-p)^{n-k}$$\n"
      ],
      "id": "m_wRPKPs3zxh"
    },
    {
      "cell_type": "code",
      "metadata": {
        "id": "INAxcTFA3zxh"
      },
      "source": [
        "def binomial_pmf(n, k, p):\n",
        "    return comb(n, k) * (p**k) * ((1-p)**(n-k))\n",
        "\n",
        "# Example: probability of getting exactly 3 heads in 5 fair coin tosses (p=0.5)\n",
        "binomial_pmf(5, 3, 0.5)"
      ],
      "id": "INAxcTFA3zxh",
      "execution_count": null,
      "outputs": []
    },
    {
      "cell_type": "markdown",
      "metadata": {
        "id": "7x2Mdjte3zxh"
      },
      "source": [
        "### Poisson distribution example\n",
        "Probability mass function for Poisson with mean λ:\n",
        "$$P(X=k)=e^{-\\lambda} \\frac{\\lambda^{k}}{k!}$$\n"
      ],
      "id": "7x2Mdjte3zxh"
    },
    {
      "cell_type": "code",
      "metadata": {
        "id": "sZGs5xl73zxh"
      },
      "source": [
        "def poisson_pmf(lam, k):\n",
        "    return exp(-lam) * (lam**k) / factorial(k)\n",
        "\n",
        "# Example: average 6 calls per hour, probability of exactly 4 calls\n",
        "poisson_pmf(6, 4)"
      ],
      "id": "sZGs5xl73zxh",
      "execution_count": null,
      "outputs": []
    },
    {
      "cell_type": "markdown",
      "metadata": {
        "id": "HgyyFKKx3zxi"
      },
      "source": [
        "### Random variables: discrete vs continuous (small demonstration)\n"
      ],
      "id": "HgyyFKKx3zxi"
    },
    {
      "cell_type": "code",
      "metadata": {
        "id": "5M1PFRv93zxi"
      },
      "source": [
        "# Discrete random variable example: number of heads in 3 coin tosses (values 0,1,2,3)\n",
        "discrete_values = [binomial_pmf(3, k, 0.5) for k in range(4)]\n",
        "discrete_values"
      ],
      "id": "5M1PFRv93zxi",
      "execution_count": null,
      "outputs": []
    },
    {
      "cell_type": "markdown",
      "metadata": {
        "id": "MvoaYv_w3zxj"
      },
      "source": [
        "### Covariance and Correlation example\n"
      ],
      "id": "MvoaYv_w3zxj"
    },
    {
      "cell_type": "code",
      "metadata": {
        "id": "twbzCMbJ3zxj"
      },
      "source": [
        "cov_matrix = data[['Age','Income']].cov()  # sample covariance (ddof=1)\n",
        "pearson_corr = data[['Age','Income']].corr(method='pearson')\n",
        "cov_matrix, pearson_corr"
      ],
      "id": "twbzCMbJ3zxj",
      "execution_count": null,
      "outputs": []
    },
    {
      "cell_type": "markdown",
      "metadata": {
        "id": "bs6G8i9E3zxj"
      },
      "source": [
        "Interpretation:\n",
        "- **Covariance:** Shows direction of linear relationship. Positive covariance indicates variables move together; negative indicates they move in opposite directions. Magnitude depends on units, so it's not standardized.\n",
        "- **Correlation (Pearson):** Standardized measure ranging from -1 to 1. Values near ±1 indicate strong linear relationship; near 0 indicate weak or no linear relationship.\n"
      ],
      "id": "bs6G8i9E3zxj"
    }
  ],
  "metadata": {
    "kernelspec": {
      "display_name": "Python 3",
      "language": "python",
      "name": "python3"
    },
    "language_info": {
      "name": "python",
      "version": "3.8"
    },
    "colab": {
      "provenance": [],
      "include_colab_link": true
    }
  },
  "nbformat": 4,
  "nbformat_minor": 5
}